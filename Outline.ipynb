{
 "cells": [
  {
   "cell_type": "markdown",
   "metadata": {},
   "source": [
    "**HomeScreen**:\n",
    "\n",
    "##Which task do you want to mark?\n",
    "- Task 1: Mở các tập tin văn bản bên ngoài được yêu cầu với exception-handling\n",
    "- Task 2: Quét từng dòng của câu trả lời bài thi để tìm dữ liệu hợp lệ và cung cấp báo cáo tương ứng\n",
    "- Task 3: Chấm điểm từng bài thi dựa trên tiêu chí đánh giá (rubric) được cung cấp và báo cáo\n",
    "- Task 4: Tạo tập tin kết quả được đặt tên thích hợp\n",
    "If you want to exit the program: type \"Exit\"\n",
    "If you want to choose the other task: type \"Restart\"\n",
    "\n",
    "Entering 1-4 to open the solutions:\n",
    "Your selection is [number(1-4)]\n",
    "\n",
    "*Note: nếu task hoàn thành thì quay lại HomeScreen"
   ]
  },
  {
   "cell_type": "markdown",
   "metadata": {},
   "source": [
    "**ADVANCE FEATURES:**\n",
    "Có thể thêm một số tính năng để người chấm xem lại barem chấm điểm"
   ]
  },
  {
   "cell_type": "markdown",
   "metadata": {},
   "source": [
    "**Task 1**\n",
    "\n",
    "##We have 2 ways to deal with the problem:\n",
    "- Just entering the name (giving suggestion if they just different in data type// assuming to be .txt only)\n",
    "- Entering the full name with its datatype (mannully type all of them// give datatype selection)\n",
    "\n",
    "*Note: the required files to be read are all .txt --> can assuming to be all .txt and add the function of open other types if required."
   ]
  },
  {
   "cell_type": "code",
   "execution_count": 1,
   "metadata": {},
   "outputs": [],
   "source": [
    "#Libaries import\n",
    "import pandas as pd\n",
    "import numpy as np"
   ]
  },
  {
   "cell_type": "code",
   "execution_count": 17,
   "metadata": {},
   "outputs": [
    {
     "name": "stdout",
     "output_type": "stream",
     "text": [
      "Hello\n",
      "My name is Linh\n",
      "Task completed\n"
     ]
    }
   ],
   "source": [
    "with open (\"test.txt\",\"r\") as File1:\n",
    "    print(File1.read())  \n",
    "print(\"Task completed\")"
   ]
  }
 ],
 "metadata": {
  "interpreter": {
   "hash": "98b478de461971fab32442434c427a5eb737f36d56fc11222a7317f286fba743"
  },
  "kernelspec": {
   "display_name": "Python 3.8.10 64-bit",
   "language": "python",
   "name": "python3"
  },
  "language_info": {
   "codemirror_mode": {
    "name": "ipython",
    "version": 3
   },
   "file_extension": ".py",
   "mimetype": "text/x-python",
   "name": "python",
   "nbconvert_exporter": "python",
   "pygments_lexer": "ipython3",
   "version": "3.8.10"
  },
  "orig_nbformat": 4
 },
 "nbformat": 4,
 "nbformat_minor": 2
}
